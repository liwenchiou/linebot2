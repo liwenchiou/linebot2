{
 "cells": [
  {
   "cell_type": "code",
   "execution_count": 1,
   "id": "5bed2474-5373-4d9e-8e57-160b60743577",
   "metadata": {},
   "outputs": [
    {
     "name": "stdout",
     "output_type": "stream",
     "text": [
      "Running on local URL:  http://127.0.0.1:7861\n",
      "\n",
      "Could not create share link. Please check your internet connection or our status page: https://status.gradio.app.\n"
     ]
    },
    {
     "data": {
      "text/html": [
       "<div><iframe src=\"http://127.0.0.1:7861/\" width=\"100%\" height=\"500\" allow=\"autoplay; camera; microphone; clipboard-read; clipboard-write;\" frameborder=\"0\" allowfullscreen></iframe></div>"
      ],
      "text/plain": [
       "<IPython.core.display.HTML object>"
      ]
     },
     "metadata": {},
     "output_type": "display_data"
    },
    {
     "data": {
      "text/plain": []
     },
     "execution_count": 1,
     "metadata": {},
     "output_type": "execute_result"
    }
   ],
   "source": [
    "import gradio as gr\n",
    "import requests\n",
    "def call_synthesize_api(text, gender, tone, speed):\n",
    "    \"\"\"\n",
    "    將文字資料和選項傳送到 Flask API，並接收回傳的音訊檔案。\n",
    "    參數:\n",
    "    - text: 使用者輸入的文字。\n",
    "    - gender: 使用者選擇的語音性別。\n",
    "    - tone: 使用者選擇的音調。\n",
    "    - speed: 使用者選擇的語速。\n",
    "    回傳:\n",
    "    - 若成功，回傳音訊的檔案名稱；若失敗，回傳錯誤訊息。\n",
    "    \"\"\"\n",
    "    # 發送 POST 請求到 Flask API，將使用者的輸入文字和選項一同傳送\n",
    "    response = requests.post(\"http://127.0.0.1:8080/synthesize\", data={\n",
    "        \"content\": text,\n",
    "        \"gender\": gender,\n",
    "        \"tone\": tone,\n",
    "        \"speed\": speed\n",
    "    })   \n",
    "    if response.status_code == 200:\n",
    "        # 如果請求成功，將回傳的音訊內容寫入本地檔案\n",
    "        audio_file = \"response.mp3\"\n",
    "        with open(audio_file, \"wb\") as f:\n",
    "            f.write(response.content)\n",
    "        return audio_file  # 回傳音訊檔案的路徑，以便 Gradio 播放\n",
    "    else:\n",
    "        return \"發生錯誤: 無法合成語音。\"  # 回傳錯誤訊息\n",
    "# 使用 Gradio 建立網頁介面\n",
    "iface = gr.Interface(\n",
    "    fn=call_synthesize_api,  # 指定處理函數\n",
    "    inputs=[\n",
    "        \"text\",  # 第一個輸入：文字輸入框\n",
    "        gr.Radio([\"1\", \"0\"], label=\"選擇語音性別\", value=\"1\"),  # 第二個輸入：選擇語音性別的單選按鈕\n",
    "        gr.Slider(minimum=-50, maximum=50, step=1, label=\"音調 (Tone)\", value=0),  # 第三個輸入：音調的BAR\n",
    "        gr.Slider(minimum=-50, maximum=50, step=1, label=\"速度 (Speed)\", value=0)  # 第四個輸入：速度的BAR\n",
    "    ],\n",
    "    outputs=\"audio\",  # 指定輸出為音訊格式\n",
    "    title=\"繁體中文語音合成 API 測試\",  # 界面的標題\n",
    "    description=\"輸入文字以測試語音合成API，回傳語音進行撥放。\"  # 介面的描述\n",
    ")\n",
    "# 啟動 Gradio 介面並生成外部訪問連結\n",
    "iface.launch(share=True)"
   ]
  },
  {
   "cell_type": "code",
   "execution_count": null,
   "id": "eabece69-7231-4afa-b77d-83c5999225f0",
   "metadata": {},
   "outputs": [],
   "source": []
  }
 ],
 "metadata": {
  "kernelspec": {
   "display_name": "Python 3 (ipykernel)",
   "language": "python",
   "name": "python3"
  },
  "language_info": {
   "codemirror_mode": {
    "name": "ipython",
    "version": 3
   },
   "file_extension": ".py",
   "mimetype": "text/x-python",
   "name": "python",
   "nbconvert_exporter": "python",
   "pygments_lexer": "ipython3",
   "version": "3.11.9"
  }
 },
 "nbformat": 4,
 "nbformat_minor": 5
}
