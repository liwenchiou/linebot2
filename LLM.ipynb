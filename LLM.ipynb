{
 "cells": [
  {
   "cell_type": "code",
   "execution_count": 1,
   "id": "4aec1140-24ec-4263-9bb6-cf9ac282acb8",
   "metadata": {},
   "outputs": [
    {
     "name": "stdout",
     "output_type": "stream",
     "text": [
      "Running on local URL:  http://127.0.0.1:7862\n",
      "\n",
      "Could not create share link. Please check your internet connection or our status page: https://status.gradio.app.\n"
     ]
    },
    {
     "data": {
      "text/html": [
       "<div><iframe src=\"http://127.0.0.1:7862/\" width=\"100%\" height=\"500\" allow=\"autoplay; camera; microphone; clipboard-read; clipboard-write;\" frameborder=\"0\" allowfullscreen></iframe></div>"
      ],
      "text/plain": [
       "<IPython.core.display.HTML object>"
      ]
     },
     "metadata": {},
     "output_type": "display_data"
    },
    {
     "data": {
      "text/plain": []
     },
     "execution_count": 1,
     "metadata": {},
     "output_type": "execute_result"
    }
   ],
   "source": [
    "import gradio as gr\n",
    "import requests\n",
    "# 載入模型和分詞器\n",
    "model_name = \"Qwen/Qwen2-0.5B\"\n",
    "def call_llm_api(question):\n",
    "    # 設定外部 API 的 URL\n",
    "    api_url = \"http://127.0.0.1:8080/qa\"  # 此處替換為實際的 Flask API 地址   \n",
    "    # 向外部 API 發送請求並獲取回傳答案\n",
    "    response = requests.post(api_url, json={\"text\": question})  \n",
    "    if response.status_code == 200:\n",
    "        # 解析並回傳答案\n",
    "        answer = response.json().get(\"answer\", \"無法獲取答案\")\n",
    "        return answer\n",
    "    else:\n",
    "        return \"發生錯誤: 無法從 API 獲取答案。\"\n",
    "# 使用 Gradio 建立介面\n",
    "iface = gr.Interface(\n",
    "    fn=call_llm_api,  # 綁定處理函數\n",
    "    inputs=\"text\",  # 設置輸入類型為文字\n",
    "    outputs=\"text\",  # 設置輸出類型為文字\n",
    "    title=\"繁體中文 LLM QA 問答系統\",  # 設置介面標題\n",
    "    description=f\"輸入您的問題，獲取 {model_name} 模型的回答。\",  # 設置介面描述\n",
    ")\n",
    "# 啟動 Gradio 介面並提供外部連結\n",
    "iface.launch(share=True)"
   ]
  },
  {
   "cell_type": "code",
   "execution_count": null,
   "id": "dbedb602-8c8f-4d33-882c-f68f6e650d45",
   "metadata": {},
   "outputs": [],
   "source": []
  }
 ],
 "metadata": {
  "kernelspec": {
   "display_name": "Python 3 (ipykernel)",
   "language": "python",
   "name": "python3"
  },
  "language_info": {
   "codemirror_mode": {
    "name": "ipython",
    "version": 3
   },
   "file_extension": ".py",
   "mimetype": "text/x-python",
   "name": "python",
   "nbconvert_exporter": "python",
   "pygments_lexer": "ipython3",
   "version": "3.11.9"
  }
 },
 "nbformat": 4,
 "nbformat_minor": 5
}
